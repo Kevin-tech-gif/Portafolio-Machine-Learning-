{
 "cells": [
  {
   "cell_type": "markdown",
   "metadata": {},
   "source": [
    "#modelos de regresion lineal\n",
    "#modelos con datos simulados\n",
    "y = a + b * x\n",
    "x: 100 valores distribuidos segun una N(1.5, 2.5)\n",
    "Ye = 2 + 0.3 * x + e\n",
    "estara distribuido segun una normal de(0, 0.8)\n"
   ]
  },
  {
   "cell_type": "code",
   "execution_count": 2,
   "metadata": {},
   "outputs": [],
   "source": [
    "import pandas as pd\n",
    "import numpy as np"
   ]
  },
  {
   "cell_type": "code",
   "execution_count": 5,
   "metadata": {},
   "outputs": [],
   "source": [
    "x = 1.5 + 2.5 * np.random.randn(100)"
   ]
  },
  {
   "cell_type": "code",
   "execution_count": 6,
   "metadata": {},
   "outputs": [],
   "source": [
    "res = 0 + 0.8 * np.random.randn(100)"
   ]
  },
  {
   "cell_type": "code",
   "execution_count": 7,
   "metadata": {},
   "outputs": [],
   "source": [
    "y_pred = 5 + 1.9 * x"
   ]
  },
  {
   "cell_type": "code",
   "execution_count": 8,
   "metadata": {},
   "outputs": [],
   "source": [
    "y_act = 5 + 1.9 * x + res "
   ]
  },
  {
   "cell_type": "code",
   "execution_count": 10,
   "metadata": {},
   "outputs": [],
   "source": [
    "x_list = x.tolist()\n",
    "y_pred_list = y_pred.tolist()\n",
    "y_act_list = y_act.tolist()"
   ]
  },
  {
   "cell_type": "code",
   "execution_count": 11,
   "metadata": {},
   "outputs": [],
   "source": [
    "data = pd.DataFrame(\n",
    "\n",
    "    { \n",
    "        'x':x_list,\n",
    "        'y_actual':y_act_list,\n",
    "        'y_prediccion':y_pred_list\n",
    "        \n",
    "    }\n",
    ")"
   ]
  },
  {
   "cell_type": "code",
   "execution_count": 12,
   "metadata": {},
   "outputs": [
    {
     "data": {
      "text/html": [
       "<div>\n",
       "<style scoped>\n",
       "    .dataframe tbody tr th:only-of-type {\n",
       "        vertical-align: middle;\n",
       "    }\n",
       "\n",
       "    .dataframe tbody tr th {\n",
       "        vertical-align: top;\n",
       "    }\n",
       "\n",
       "    .dataframe thead th {\n",
       "        text-align: right;\n",
       "    }\n",
       "</style>\n",
       "<table border=\"1\" class=\"dataframe\">\n",
       "  <thead>\n",
       "    <tr style=\"text-align: right;\">\n",
       "      <th></th>\n",
       "      <th>x</th>\n",
       "      <th>y_actual</th>\n",
       "      <th>y_prediccion</th>\n",
       "    </tr>\n",
       "  </thead>\n",
       "  <tbody>\n",
       "    <tr>\n",
       "      <th>0</th>\n",
       "      <td>3.566987</td>\n",
       "      <td>12.751838</td>\n",
       "      <td>11.777276</td>\n",
       "    </tr>\n",
       "    <tr>\n",
       "      <th>1</th>\n",
       "      <td>1.344393</td>\n",
       "      <td>7.597977</td>\n",
       "      <td>7.554347</td>\n",
       "    </tr>\n",
       "    <tr>\n",
       "      <th>2</th>\n",
       "      <td>5.947006</td>\n",
       "      <td>16.175912</td>\n",
       "      <td>16.299312</td>\n",
       "    </tr>\n",
       "    <tr>\n",
       "      <th>3</th>\n",
       "      <td>0.815036</td>\n",
       "      <td>6.680994</td>\n",
       "      <td>6.548569</td>\n",
       "    </tr>\n",
       "    <tr>\n",
       "      <th>4</th>\n",
       "      <td>2.952402</td>\n",
       "      <td>9.895718</td>\n",
       "      <td>10.609564</td>\n",
       "    </tr>\n",
       "  </tbody>\n",
       "</table>\n",
       "</div>"
      ],
      "text/plain": [
       "          x   y_actual  y_prediccion\n",
       "0  3.566987  12.751838     11.777276\n",
       "1  1.344393   7.597977      7.554347\n",
       "2  5.947006  16.175912     16.299312\n",
       "3  0.815036   6.680994      6.548569\n",
       "4  2.952402   9.895718     10.609564"
      ]
     },
     "execution_count": 12,
     "metadata": {},
     "output_type": "execute_result"
    }
   ],
   "source": [
    "data.head()"
   ]
  },
  {
   "cell_type": "code",
   "execution_count": 13,
   "metadata": {},
   "outputs": [],
   "source": [
    "import matplotlib.pyplot as plt"
   ]
  },
  {
   "cell_type": "code",
   "execution_count": 19,
   "metadata": {},
   "outputs": [],
   "source": [
    "y_mean = [np.mean(y_act) for i in range(1, len(x_list) + 1)]"
   ]
  },
  {
   "cell_type": "code",
   "execution_count": 20,
   "metadata": {},
   "outputs": [
    {
     "data": {
      "text/plain": [
       "Text(0.5, 1.0, 'valor actual de la prediccion')"
      ]
     },
     "execution_count": 20,
     "metadata": {},
     "output_type": "execute_result"
    },
    {
     "data": {
      "image/png": "[encoded data removed]",
      "text/plain": [
       "<Figure size 432x288 with 1 Axes>"
      ]
     },
     "metadata": {
      "needs_background": "light"
     },
     "output_type": "display_data"
    }
   ],
   "source": [
    "%matplotlib inline\n",
    "plt.plot(x,y_pred)\n",
    "plt.plot(x, y_act,\"ro\")\n",
    "plt.plot(x, y_mean)\n",
    "plt.title(\"valor actual de la prediccion\")"
   ]
  },
  {
   "cell_type": "code",
   "execution_count": 22,
   "metadata": {},
   "outputs": [],
   "source": [
    "data[\"SSR\"]=(data[\"y_prediccion\"]-np.mean(y_act))**2\n",
    "data[\"SSD\"]=(data[\"y_prediccion\"]-data[\"y_actual\"])**2\n",
    "data[\"SST\"]=(data[\"y_actual\"]-np.mean(y_act))**2"
   ]
  },
  {
   "cell_type": "code",
   "execution_count": 23,
   "metadata": {},
   "outputs": [
    {
     "data": {
      "text/html": [
       "<div>\n",
       "<style scoped>\n",
       "    .dataframe tbody tr th:only-of-type {\n",
       "        vertical-align: middle;\n",
       "    }\n",
       "\n",
       "    .dataframe tbody tr th {\n",
       "        vertical-align: top;\n",
       "    }\n",
       "\n",
       "    .dataframe thead th {\n",
       "        text-align: right;\n",
       "    }\n",
       "</style>\n",
       "<table border=\"1\" class=\"dataframe\">\n",
       "  <thead>\n",
       "    <tr style=\"text-align: right;\">\n",
       "      <th></th>\n",
       "      <th>x</th>\n",
       "      <th>y_actual</th>\n",
       "      <th>y_prediccion</th>\n",
       "      <th>SSR</th>\n",
       "      <th>SSD</th>\n",
       "      <th>SST</th>\n",
       "    </tr>\n",
       "  </thead>\n",
       "  <tbody>\n",
       "    <tr>\n",
       "      <th>0</th>\n",
       "      <td>3.566987</td>\n",
       "      <td>12.751838</td>\n",
       "      <td>11.777276</td>\n",
       "      <td>15.607063</td>\n",
       "      <td>0.949772</td>\n",
       "      <td>24.257005</td>\n",
       "    </tr>\n",
       "    <tr>\n",
       "      <th>1</th>\n",
       "      <td>1.344393</td>\n",
       "      <td>7.597977</td>\n",
       "      <td>7.554347</td>\n",
       "      <td>0.074175</td>\n",
       "      <td>0.001904</td>\n",
       "      <td>0.052313</td>\n",
       "    </tr>\n",
       "    <tr>\n",
       "      <th>2</th>\n",
       "      <td>5.947006</td>\n",
       "      <td>16.175912</td>\n",
       "      <td>16.299312</td>\n",
       "      <td>71.785181</td>\n",
       "      <td>0.015227</td>\n",
       "      <td>69.709373</td>\n",
       "    </tr>\n",
       "    <tr>\n",
       "      <th>3</th>\n",
       "      <td>0.815036</td>\n",
       "      <td>6.680994</td>\n",
       "      <td>6.548569</td>\n",
       "      <td>1.633613</td>\n",
       "      <td>0.017536</td>\n",
       "      <td>1.312637</td>\n",
       "    </tr>\n",
       "    <tr>\n",
       "      <th>4</th>\n",
       "      <td>2.952402</td>\n",
       "      <td>9.895718</td>\n",
       "      <td>10.609564</td>\n",
       "      <td>7.744344</td>\n",
       "      <td>0.509576</td>\n",
       "      <td>4.280845</td>\n",
       "    </tr>\n",
       "  </tbody>\n",
       "</table>\n",
       "</div>"
      ],
      "text/plain": [
       "          x   y_actual  y_prediccion        SSR       SSD        SST\n",
       "0  3.566987  12.751838     11.777276  15.607063  0.949772  24.257005\n",
       "1  1.344393   7.597977      7.554347   0.074175  0.001904   0.052313\n",
       "2  5.947006  16.175912     16.299312  71.785181  0.015227  69.709373\n",
       "3  0.815036   6.680994      6.548569   1.633613  0.017536   1.312637\n",
       "4  2.952402   9.895718     10.609564   7.744344  0.509576   4.280845"
      ]
     },
     "execution_count": 23,
     "metadata": {},
     "output_type": "execute_result"
    }
   ],
   "source": [
    "data.head()"
   ]
  },
  {
   "cell_type": "code",
   "execution_count": 24,
   "metadata": {},
   "outputs": [],
   "source": [
    "SSR = sum(data[\"SSR\"])\n",
    "SSD = sum(data[\"SSD\"])\n",
    "SST = sum(data[\"SST\"])"
   ]
  },
  {
   "cell_type": "code",
   "execution_count": 25,
   "metadata": {},
   "outputs": [
    {
     "data": {
      "text/plain": [
       "1959.7212688552784"
      ]
     },
     "execution_count": 25,
     "metadata": {},
     "output_type": "execute_result"
    }
   ],
   "source": [
    "SSR"
   ]
  },
  {
   "cell_type": "code",
   "execution_count": 26,
   "metadata": {},
   "outputs": [
    {
     "data": {
      "text/plain": [
       "75.14700218292126"
      ]
     },
     "execution_count": 26,
     "metadata": {},
     "output_type": "execute_result"
    }
   ],
   "source": [
    "SSD"
   ]
  },
  {
   "cell_type": "code",
   "execution_count": 27,
   "metadata": {},
   "outputs": [
    {
     "data": {
      "text/plain": [
       "2106.607472287093"
      ]
     },
     "execution_count": 27,
     "metadata": {},
     "output_type": "execute_result"
    }
   ],
   "source": [
    "SST"
   ]
  },
  {
   "cell_type": "code",
   "execution_count": 28,
   "metadata": {},
   "outputs": [],
   "source": [
    "R2 = SSR/SST"
   ]
  },
  {
   "cell_type": "code",
   "execution_count": 29,
   "metadata": {},
   "outputs": [
    {
     "data": {
      "text/plain": [
       "0.9302735771309385"
      ]
     },
     "execution_count": 29,
     "metadata": {},
     "output_type": "execute_result"
    }
   ],
   "source": [
    "R2"
   ]
  },
  {
   "cell_type": "code",
   "execution_count": 32,
   "metadata": {},
   "outputs": [
    {
     "data": {
      "text/plain": [
       "(array([ 2.,  6.,  9., 12., 21., 19., 12.,  9.,  8.,  2.]),\n",
       " array([-1.98568042, -1.5712481 , -1.15681578, -0.74238346, -0.32795113,\n",
       "         0.08648119,  0.50091351,  0.91534583,  1.32977815,  1.74421048,\n",
       "         2.1586428 ]),\n",
       " <a list of 10 Patch objects>)"
      ]
     },
     "execution_count": 32,
     "metadata": {},
     "output_type": "execute_result"
    },
    {
     "data": {
      "image/png": "[encoded data removed]",
      "text/plain": [
       "<Figure size 432x288 with 1 Axes>"
      ]
     },
     "metadata": {
      "needs_background": "light"
     },
     "output_type": "display_data"
    }
   ],
   "source": [
    "plt.hist(data[\"y_prediccion\"]-data[\"y_actual\"])"
   ]
  },
  {
   "cell_type": "markdown",
   "metadata": {},
   "source": [
    "#obteniendo la recta de regresion\n",
    "#y = a + b * x\n",
    "#b = sum((xi-x_m)*(y_i-y_m))/sum((xi-x_m)^2)\n",
    "#a-y_n-b*x_m"
   ]
  },
  {
   "cell_type": "code",
   "execution_count": 34,
   "metadata": {},
   "outputs": [
    {
     "data": {
      "text/plain": [
       "(1.5493237373472988, 7.826698079769601)"
      ]
     },
     "execution_count": 34,
     "metadata": {},
     "output_type": "execute_result"
    }
   ],
   "source": [
    "x_mean = np.mean(data[\"x\"])\n",
    "y_mean = np.mean(data[\"y_actual\"])\n",
    "x_mean, y_mean"
   ]
  },
  {
   "cell_type": "code",
   "execution_count": 37,
   "metadata": {},
   "outputs": [],
   "source": [
    "data[\"beta_n\"] = (data[\"x\"]-x_mean)*(data[\"y_actual\"]-y_mean)\n",
    "data[\"beta_b\"] = (data[\"x\"]-x_mean)**2"
   ]
  },
  {
   "cell_type": "code",
   "execution_count": 40,
   "metadata": {},
   "outputs": [],
   "source": [
    "beta = sum(data[\"beta_n\"])/sum(data[\"beta_b\"])"
   ]
  },
  {
   "cell_type": "code",
   "execution_count": 41,
   "metadata": {},
   "outputs": [],
   "source": [
    "alpha = y_mean - beta * x_mean"
   ]
  },
  {
   "cell_type": "code",
   "execution_count": 42,
   "metadata": {},
   "outputs": [
    {
     "data": {
      "text/plain": [
       "(4.827006979178577, 1.9361293113129447)"
      ]
     },
     "execution_count": 42,
     "metadata": {},
     "output_type": "execute_result"
    }
   ],
   "source": [
    "alpha, beta"
   ]
  },
  {
   "cell_type": "markdown",
   "metadata": {},
   "source": [
    "El modelo lineal obtenido por regresion es: y = 4.827006979178577 + 1.9361293113129447*x"
   ]
  },
  {
   "cell_type": "code",
   "execution_count": 44,
   "metadata": {},
   "outputs": [],
   "source": [
    "data[\"y_model\"] = alpha + data[\"x\"]"
   ]
  },
  {
   "cell_type": "code",
   "execution_count": 45,
   "metadata": {},
   "outputs": [
    {
     "data": {
      "text/html": [
       "<div>\n",
       "<style scoped>\n",
       "    .dataframe tbody tr th:only-of-type {\n",
       "        vertical-align: middle;\n",
       "    }\n",
       "\n",
       "    .dataframe tbody tr th {\n",
       "        vertical-align: top;\n",
       "    }\n",
       "\n",
       "    .dataframe thead th {\n",
       "        text-align: right;\n",
       "    }\n",
       "</style>\n",
       "<table border=\"1\" class=\"dataframe\">\n",
       "  <thead>\n",
       "    <tr style=\"text-align: right;\">\n",
       "      <th></th>\n",
       "      <th>x</th>\n",
       "      <th>y_actual</th>\n",
       "      <th>y_prediccion</th>\n",
       "      <th>SSR</th>\n",
       "      <th>SSD</th>\n",
       "      <th>SST</th>\n",
       "      <th>beta_n</th>\n",
       "      <th>beta_b</th>\n",
       "      <th>y_model</th>\n",
       "    </tr>\n",
       "  </thead>\n",
       "  <tbody>\n",
       "    <tr>\n",
       "      <th>0</th>\n",
       "      <td>3.566987</td>\n",
       "      <td>12.751838</td>\n",
       "      <td>11.777276</td>\n",
       "      <td>15.607063</td>\n",
       "      <td>0.949772</td>\n",
       "      <td>24.257005</td>\n",
       "      <td>9.937275</td>\n",
       "      <td>4.070966</td>\n",
       "      <td>8.393994</td>\n",
       "    </tr>\n",
       "    <tr>\n",
       "      <th>1</th>\n",
       "      <td>1.344393</td>\n",
       "      <td>7.597977</td>\n",
       "      <td>7.554347</td>\n",
       "      <td>0.074175</td>\n",
       "      <td>0.001904</td>\n",
       "      <td>0.052313</td>\n",
       "      <td>0.046872</td>\n",
       "      <td>0.041997</td>\n",
       "      <td>6.171400</td>\n",
       "    </tr>\n",
       "    <tr>\n",
       "      <th>2</th>\n",
       "      <td>5.947006</td>\n",
       "      <td>16.175912</td>\n",
       "      <td>16.299312</td>\n",
       "      <td>71.785181</td>\n",
       "      <td>0.015227</td>\n",
       "      <td>69.709373</td>\n",
       "      <td>36.717191</td>\n",
       "      <td>19.339610</td>\n",
       "      <td>10.774013</td>\n",
       "    </tr>\n",
       "    <tr>\n",
       "      <th>3</th>\n",
       "      <td>0.815036</td>\n",
       "      <td>6.680994</td>\n",
       "      <td>6.548569</td>\n",
       "      <td>1.633613</td>\n",
       "      <td>0.017536</td>\n",
       "      <td>1.312637</td>\n",
       "      <td>0.841276</td>\n",
       "      <td>0.539178</td>\n",
       "      <td>5.642043</td>\n",
       "    </tr>\n",
       "    <tr>\n",
       "      <th>4</th>\n",
       "      <td>2.952402</td>\n",
       "      <td>9.895718</td>\n",
       "      <td>10.609564</td>\n",
       "      <td>7.744344</td>\n",
       "      <td>0.509576</td>\n",
       "      <td>4.280845</td>\n",
       "      <td>2.902998</td>\n",
       "      <td>1.968629</td>\n",
       "      <td>7.779409</td>\n",
       "    </tr>\n",
       "  </tbody>\n",
       "</table>\n",
       "</div>"
      ],
      "text/plain": [
       "          x   y_actual  y_prediccion        SSR       SSD        SST  \\\n",
       "0  3.566987  12.751838     11.777276  15.607063  0.949772  24.257005   \n",
       "1  1.344393   7.597977      7.554347   0.074175  0.001904   0.052313   \n",
       "2  5.947006  16.175912     16.299312  71.785181  0.015227  69.709373   \n",
       "3  0.815036   6.680994      6.548569   1.633613  0.017536   1.312637   \n",
       "4  2.952402   9.895718     10.609564   7.744344  0.509576   4.280845   \n",
       "\n",
       "      beta_n     beta_b    y_model  \n",
       "0   9.937275   4.070966   8.393994  \n",
       "1   0.046872   0.041997   6.171400  \n",
       "2  36.717191  19.339610  10.774013  \n",
       "3   0.841276   0.539178   5.642043  \n",
       "4   2.902998   1.968629   7.779409  "
      ]
     },
     "execution_count": 45,
     "metadata": {},
     "output_type": "execute_result"
    }
   ],
   "source": [
    "data.head()"
   ]
  },
  {
   "cell_type": "code",
   "execution_count": 47,
   "metadata": {},
   "outputs": [],
   "source": [
    "SSR = sum((data[\"y_model\"]-y_mean)**2)\n",
    "SSD = sum((data[\"y_model\"]-data[\"y_actual\"])**2)\n",
    "SST = sum((data[\"y_actual\"]-y_mean)**2)"
   ]
  },
  {
   "cell_type": "code",
   "execution_count": 48,
   "metadata": {},
   "outputs": [
    {
     "data": {
      "text/plain": [
       "(752.8363190662978, 758.8218234799967, 2106.607472287094)"
      ]
     },
     "execution_count": 48,
     "metadata": {},
     "output_type": "execute_result"
    }
   ],
   "source": [
    "SSR, SSD, SST"
   ]
  },
  {
   "cell_type": "code",
   "execution_count": 49,
   "metadata": {},
   "outputs": [],
   "source": [
    "R2 = SSR/SST"
   ]
  },
  {
   "cell_type": "code",
   "execution_count": 50,
   "metadata": {},
   "outputs": [
    {
     "data": {
      "text/plain": [
       "0.3573690537843584"
      ]
     },
     "execution_count": 50,
     "metadata": {},
     "output_type": "execute_result"
    }
   ],
   "source": [
    "R2"
   ]
  },
  {
   "cell_type": "code",
   "execution_count": null,
   "metadata": {},
   "outputs": [],
   "source": []
  }
 ],
 "metadata": {
  "kernelspec": {
   "display_name": "Python 3",
   "language": "python",
   "name": "python3"
  },
  "language_info": {
   "codemirror_mode": {
    "name": "ipython",
    "version": 3
   },
   "file_extension": ".py",
   "mimetype": "text/x-python",
   "name": "python",
   "nbconvert_exporter": "python",
   "pygments_lexer": "ipython3",
   "version": "3.8.3"
  }
 },
 "nbformat": 4,
 "nbformat_minor": 4
}
